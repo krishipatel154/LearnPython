{
 "cells": [
  {
   "cell_type": "code",
   "execution_count": 2,
   "id": "611f68d5-0b00-4929-a80e-f279f970effa",
   "metadata": {},
   "outputs": [
    {
     "name": "stdout",
     "output_type": "stream",
     "text": [
      "[1 2 3 4 5]\n",
      "<class 'numpy.ndarray'>\n"
     ]
    }
   ],
   "source": [
    "#How to declare numpy array\n",
    "import numpy as np\n",
    "arr = np.array([1,2,3,4,5])\n",
    "print(arr)\n",
    "print(type(arr))"
   ]
  },
  {
   "cell_type": "code",
   "execution_count": 6,
   "id": "eaf0a6a0-e161-4f88-8b6b-a58653c116de",
   "metadata": {},
   "outputs": [
    {
     "name": "stdout",
     "output_type": "stream",
     "text": [
      "[[ 1  2  3  4  5]\n",
      " [ 6  7  8  9 10]]\n",
      "<class 'numpy.ndarray'>\n"
     ]
    }
   ],
   "source": [
    "#How to declare 2d array\n",
    "arr2 = np.array([[1,2,3,4,5],[6,7,8,9,10]])\n",
    "print(arr2)\n",
    "print(type(arr2))"
   ]
  },
  {
   "cell_type": "code",
   "execution_count": 10,
   "id": "b68cf65a-053f-48c6-8556-ad32cd3755d7",
   "metadata": {},
   "outputs": [
    {
     "name": "stdout",
     "output_type": "stream",
     "text": [
      "1\n",
      "5\n",
      "[1 2 3 4 5]\n",
      "[1 2 3 4 5]\n",
      "[1 2 3 4 5]\n"
     ]
    }
   ],
   "source": [
    "arr = np.array([1,2,3,4,5])\n",
    "# slicing of single-dimentional array\n",
    "print(arr[0])   # it prints first element\n",
    "print(arr[-1])   # it prints last element\n",
    "print(arr[0:])  # it prints 0 to last index\n",
    "print(arr[:])   # it prints all the items\n",
    "print(arr[:5])   # it prints first element to 5th"
   ]
  },
  {
   "cell_type": "code",
   "execution_count": 17,
   "id": "22dade04-80ef-43d4-a038-143d28b7c6bf",
   "metadata": {},
   "outputs": [
    {
     "name": "stdout",
     "output_type": "stream",
     "text": [
      "[1 2 3]\n",
      "[[ 1  2  3  4  5]\n",
      " [ 6  7  8  9 10]]\n",
      "[[1 2]\n",
      " [6 7]]\n",
      "[[1 2 3]\n",
      " [6 7 8]]\n",
      "[1 2 3 4 5]\n",
      "[6 7]\n"
     ]
    }
   ],
   "source": [
    "arr2 = np.array([[1,2,3,4,5],[6,7,8,9,10],[11,12,13,14,15]])\n",
    "# slicing of 2d array\n",
    "print(arr2[0,0:3])   # it prints 0 to 2 index of sub-array of 0th index of main array\n",
    "print(arr2[0:2])     # it prints 0 to 1st index of main array\n",
    "print(arr2[0:2,0:2])   # it prints 0th to 1st index of first two sub array\n",
    "print(arr2[0:2,0:3])   # it prints 0th to 2nd index of both sub array, we can not print different indexes\n",
    "print(arr2[0,0:])\n",
    "print(arr2[1,0:2])"
   ]
  },
  {
   "cell_type": "code",
   "execution_count": 10,
   "id": "0cebee59-67e4-4c09-b58d-8fb18dc0a1cd",
   "metadata": {},
   "outputs": [
    {
     "name": "stdout",
     "output_type": "stream",
     "text": [
      "(5,)\n",
      "(3, 5)\n",
      "5\n",
      "15\n",
      "Length of arr2:  3\n",
      "1\n",
      "2\n",
      "float64\n",
      "int64\n",
      "[[ 1.  2.  3.  4.  5.]\n",
      " [ 6.  7.  8.  9. 10.]\n",
      " [11. 12. 13. 14. 15.]]\n"
     ]
    }
   ],
   "source": [
    "import numpy as np\n",
    "arr = np.array([1.0,2,3,4,5])\n",
    "arr2 = np.array([[1,2,3,4,5],[6,7,8,9,10],[11,12,13,14,15]])\n",
    "# inspecting an array\n",
    "print(np.shape(arr))\n",
    "print(np.shape(arr2))   # it returns (row,column)\n",
    "print(np.size(arr))\n",
    "print(np.size(arr2))  # it returns number of elements present in array\n",
    "print(\"Length of arr2: \",len(arr2))   # it retuens number of sub array present in array\n",
    "print(np.ndim(arr))\n",
    "print(np.ndim(arr2))   # it returns number of dimention\n",
    "print(arr.dtype)\n",
    "print(arr2.dtype)\n",
    "print(arr2.astype(float))  # it is used for type casting"
   ]
  },
  {
   "cell_type": "code",
   "execution_count": 25,
   "id": "144b9902-cb37-437e-8f33-cc54fb849a87",
   "metadata": {},
   "outputs": [
    {
     "name": "stdout",
     "output_type": "stream",
     "text": [
      "arr + arr2:  [1, 2, 3, 4, 5, 6, 7, 8, 5, 6, 9, 4]\n",
      "Addition:  [ 8 10  8 10 14 10]\n",
      "Subtraction:  [-6 -6 -2 -2 -4  2]\n",
      "Multiplication:  [ 7 16 15 24 45 24]\n",
      "Division:  [0.14285714 0.25       0.6        0.66666667 0.55555556 1.5       ]\n",
      "Power of arr:  [   1   16   81  256  625 1296]\n",
      "Power of arr2:  [343 512 125 216 729  64]\n",
      "Power of arr3:  [[  1   4   9  16  25]\n",
      " [ 36  49  64  81 100]\n",
      " [121 144 169 196 225]]\n",
      "Square Root of powerArr:  [1. 2. 3. 4. 5. 6.]\n"
     ]
    }
   ],
   "source": [
    "# mathematical operations\n",
    "arr = [1,2,3,4,5,6]\n",
    "arr2 = [7,8,5,6,9,4]\n",
    "arr3 = np.array([[1,2,3,4,5],[6,7,8,9,10],[11,12,13,14,15]])\n",
    "print(\"arr + arr2: \",arr+arr2)\n",
    "print(\"Addition: \",np.add(arr,arr2))\n",
    "print(\"Subtraction: \",np.subtract(arr,arr2))\n",
    "print(\"Multiplication: \", np.multiply(arr,arr2))\n",
    "print(\"Division: \", np.divide(arr, arr2))\n",
    "powerArr = np.power(arr,2)\n",
    "powerArr3 = np.power(arr3,2)\n",
    "print(\"Power of arr: \", np.power(arr,4))\n",
    "print(\"Power of arr2: \",np.power(arr2,3))\n",
    "print(\"Power of arr3: \",np.power(arr3,2))\n",
    "print(\"Square Root of powerArr: \",np.sqrt(powerArr))"
   ]
  },
  {
   "cell_type": "code",
   "execution_count": null,
   "id": "8f7002ce-1fd8-4047-ba9b-4110964ed672",
   "metadata": {},
   "outputs": [],
   "source": []
  }
 ],
 "metadata": {
  "kernelspec": {
   "display_name": "Python 3 (ipykernel)",
   "language": "python",
   "name": "python3"
  },
  "language_info": {
   "codemirror_mode": {
    "name": "ipython",
    "version": 3
   },
   "file_extension": ".py",
   "mimetype": "text/x-python",
   "name": "python",
   "nbconvert_exporter": "python",
   "pygments_lexer": "ipython3",
   "version": "3.11.2"
  }
 },
 "nbformat": 4,
 "nbformat_minor": 5
}
